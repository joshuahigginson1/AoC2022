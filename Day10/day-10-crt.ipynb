{
 "cells": [
  {
   "cell_type": "code",
   "execution_count": 405,
   "metadata": {},
   "outputs": [],
   "source": [
    "from pprint import pprint\n",
    "\n",
    "class CRT:\n",
    "    def __init__(self, displayHeight, displayWidth):\n",
    "        self.cycleClock = 0\n",
    "        self.xRegister = 1\n",
    "        self.history = {self.cycleClock: self.xRegister}\n",
    "        \n",
    "        self.displayHeight = displayHeight\n",
    "        self.displayWidth = displayWidth\n",
    "        \n",
    "        self.pixels = ['.'] * self.displayHeight * self.displayWidth\n",
    "        \n",
    "    def incrementClock(self):\n",
    "        self.cycleClock += 1\n",
    "        self.history[self.cycleClock] = self.xRegister\n",
    "            \n",
    "    def addRegister(self, vValue):\n",
    "        self.xRegister += vValue\n",
    "        \n",
    "    def displayPixels(self):\n",
    "        for rows in range(self.displayHeight):\n",
    "            start = rows * self.displayWidth\n",
    "            pprint(''.join(self.pixels[start:start + self.displayWidth]))"
   ]
  },
  {
   "cell_type": "code",
   "execution_count": 406,
   "metadata": {},
   "outputs": [],
   "source": [
    "newCrt = CRT(6, 40)\n",
    "\n",
    "with open('input.txt') as command_set:\n",
    "    command_set.seek(0)\n",
    "\n",
    "    # Read all lines to a list without new line spacing.\n",
    "    commands = command_set.read().splitlines()\n",
    "\n",
    "for command in commands:\n",
    "    \n",
    "    # Noops.\n",
    "    if command.startswith('noop'):\n",
    "        newCrt.incrementClock()\n",
    "    \n",
    "    # Addx'es.\n",
    "    \n",
    "    else:\n",
    "        addx, vValue = command.split(\" \")\n",
    "        \n",
    "        newCrt.incrementClock()\n",
    "        newCrt.addRegister(int(vValue))\n",
    "        newCrt.incrementClock()\n",
    "        "
   ]
  },
  {
   "cell_type": "code",
   "execution_count": 407,
   "metadata": {},
   "outputs": [
    {
     "name": "stdout",
     "output_type": "stream",
     "text": [
      "14720\n"
     ]
    }
   ],
   "source": [
    "special_values = [20, 60, 100, 140, 180, 220]\n",
    "\n",
    "signal_strengths = [newCrt.history[value - 1] * value for value in special_values]\n",
    "\n",
    "print(sum(signal_strengths))"
   ]
  },
  {
   "cell_type": "code",
   "execution_count": 408,
   "metadata": {},
   "outputs": [
    {
     "name": "stdout",
     "output_type": "stream",
     "text": [
      "'####.####.###..###..###..####.####.####.'\n",
      "'#.......#.#..#.#..#.#..#.#.......#.#....'\n",
      "'###....#..###..#..#.###..###....#..###..'\n",
      "'#.....#...#..#.###..#..#.#.....#...#....'\n",
      "'#....#....#..#.#....#..#.#....#....#....'\n",
      "'#....####.###..#....###..#....####.#....'\n"
     ]
    }
   ],
   "source": [
    "for cycleCount, xRegister in newCrt.history.items():\n",
    "    \n",
    "    # The X Register represents the center of a sprite.\n",
    "    sprite_position = [xRegister - 1, xRegister, xRegister + 1]\n",
    "    \n",
    "    # The CRT draws a single pixel during each cycle. If the sprite is ON at the same position of the cycle at that current moment in time, we draw the pixel.\n",
    "    \n",
    "    if cycleCount % 40 in sprite_position:\n",
    "        newCrt.pixels[cycleCount] = \"#\"\n",
    "    \n",
    "\n",
    "newCrt.displayPixels()\n",
    "\n",
    "# F Z B P B F Z F"
   ]
  }
 ],
 "metadata": {
  "kernelspec": {
   "display_name": "AdventofCode",
   "language": "python",
   "name": "python3"
  },
  "language_info": {
   "codemirror_mode": {
    "name": "ipython",
    "version": 3
   },
   "file_extension": ".py",
   "mimetype": "text/x-python",
   "name": "python",
   "nbconvert_exporter": "python",
   "pygments_lexer": "ipython3",
   "version": "3.10.8"
  },
  "orig_nbformat": 4,
  "vscode": {
   "interpreter": {
    "hash": "efaa75f02d204c245e60ebb79ac7c386c626cf996f686efabafb2693fed2f835"
   }
  }
 },
 "nbformat": 4,
 "nbformat_minor": 2
}
