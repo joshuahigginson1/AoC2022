{
 "cells": [
  {
   "attachments": {},
   "cell_type": "markdown",
   "metadata": {},
   "source": [
    "If the following equation is true, then our points are diagonal.\n",
    "\n",
    "| 𝑥1 − 𝑥2 | = | 𝑦1 − 𝑦2 |\n",
    "\n",
    "abs(head['x'] - tail['x']))"
   ]
  },
  {
   "cell_type": "code",
   "execution_count": 303,
   "metadata": {},
   "outputs": [],
   "source": [
    "import math\n",
    "\n",
    "def getDistance(x1:int, x2:int, y1:int, y2:int) -> int:\n",
    "    \"\"\"The following gets the distance between the two points.\"\"\"\n",
    "    \n",
    "    return math.sqrt(pow(x2 - x1, 2) + pow(y2 - y1, 2))\n",
    "\n",
    "def isAligned(x1:int, x2:int, y1:int, y2:int) -> bool:\n",
    "    \"\"\"The following checks if either of our two coordiates are aligned on a plane.\"\"\"\n",
    "    \n",
    "    return x1 == x2 or y1 == y2\n",
    "\n",
    "def isAdjacentlyDiagonal(x1:int, x2:int, y1:int, y2:int) -> bool:\n",
    "    \"\"\"The following returns true if our two points are diagonal and have a distance greater than 1, but less than 2, which means they still touching.\"\"\"\n",
    "    \n",
    "    return getDistance(x1, x2, y1, y2) > 1 and abs(x1 - x2) == abs(y1 - y2)\n",
    "    "
   ]
  },
  {
   "cell_type": "code",
   "execution_count": 304,
   "metadata": {},
   "outputs": [],
   "source": [
    "# We need to move a rope across a virtual grid. We give it a simple X and Y co-ordinate.\n",
    "import copy\n",
    "\n",
    "class Rope():\n",
    "    def __init__(self, startingX:int, startingY:int, ropeLength:int):\n",
    "        \n",
    "        self.rope = [{'x': startingX, 'y': startingY} for segment in range(ropeLength)]\n",
    "        \n",
    "        self.previousPosition = []\n",
    "            \n",
    "    def moveHead(self, movement): \n",
    "        \n",
    "        # Set the rope's previous position.\n",
    "        self.previousPosition = copy.deepcopy(self.rope)\n",
    "        \n",
    "        match movement:\n",
    "            case 'L':\n",
    "                self.rope[0]['x'] -= 1\n",
    "                    \n",
    "            case 'R':\n",
    "                self.rope[0]['x'] += 1\n",
    "                    \n",
    "            case 'U':\n",
    "                self.rope[0]['y'] += 1         \n",
    "\n",
    "            case 'D':\n",
    "                self.rope[0]['y'] -= 1   \n",
    "            \n",
    "    def __len__(self):\n",
    "        return len(self.rope)\n",
    "    \n",
    "    def __iter__(self):\n",
    "        return iter(self.rope)\n",
    "                \n",
    "    def __getitem__(self, index):\n",
    "        return self.rope[index]\n",
    "    \n",
    "    def __setitem__(self, index, item):\n",
    "        self.rope[index] = item\n",
    "    \n",
    "    def __repr__(self):\n",
    "        return f\"{self.rope}\""
   ]
  },
  {
   "cell_type": "code",
   "execution_count": 305,
   "metadata": {},
   "outputs": [],
   "source": [
    "# We start the rope's head at position 0, 0.\n",
    "\n",
    "def updateRope(rope:Rope) -> Rope:\n",
    "    \n",
    "    # Count through each segment in our rope, ignoring the first.\n",
    "    for count, currentSegment in enumerate(rope[1:], 1):\n",
    "        \n",
    "        previousSegment = rope[count - 1]\n",
    "        previousSegmentHistoric = rope.previousPosition[count - 1]\n",
    "        \n",
    "        currentSegmentHistoric = rope.previousPosition[count]\n",
    "\n",
    "        # If rope was previously adjacent, and now distance is greater than 2, then the rope takes the segment's previous position.\n",
    "        if isAdjacentlyDiagonal(\n",
    "            previousSegmentHistoric['x'],\n",
    "            currentSegmentHistoric['x'],\n",
    "            previousSegmentHistoric['y'],\n",
    "            currentSegmentHistoric['y']\n",
    "        ) and getDistance(\n",
    "            previousSegment['x'],\n",
    "            currentSegment['x'],\n",
    "            previousSegment['y'],\n",
    "            currentSegment['y']) >= 2:\n",
    "            \n",
    "            rope[count] = rope.previousPosition[count - 1]\n",
    "            \n",
    "        # If rope is aligned, it's still aligned, and now distance is greater than 2, then the rope takes the segment's previous position.\n",
    "        \n",
    "        if isAligned(\n",
    "            previousSegmentHistoric['x'],\n",
    "            currentSegmentHistoric['x'],\n",
    "            previousSegmentHistoric['y'],\n",
    "            currentSegmentHistoric['y'],\n",
    "        ) and isAligned(\n",
    "            previousSegment['x'],\n",
    "            currentSegment['x'],\n",
    "            previousSegment['y'],\n",
    "            currentSegment['y']\n",
    "        ) and getDistance(\n",
    "            previousSegment['x'],\n",
    "            currentSegment['x'],\n",
    "            previousSegment['y'],\n",
    "            currentSegment['y']) >= 2:\n",
    "            \n",
    "            rope[count] = rope.previousPosition[count - 1]\n",
    "            \n"
   ]
  },
  {
   "cell_type": "code",
   "execution_count": 306,
   "metadata": {},
   "outputs": [
    {
     "name": "stdout",
     "output_type": "stream",
     "text": [
      "6642\n"
     ]
    }
   ],
   "source": [
    "rope = Rope(0, 0, ropeLength=2)\n",
    "coordinatesVisited = []\n",
    "\n",
    "with open('input.txt') as command_set:\n",
    "    command_set.seek(0)\n",
    "\n",
    "    # Read all lines to a list without new line spacing.\n",
    "    commands = command_set.read().splitlines()\n",
    "\n",
    "for command in commands:\n",
    "    # split the direction, and the number of operations by the space.\n",
    "    direction, number = command.split(\" \")\n",
    "\n",
    "    for _ in range(int(number)):\n",
    "        # For each command, move the head and update our rope.\n",
    "        rope.moveHead(direction)\n",
    "        updateRope(rope)\n",
    "        \n",
    "        # Add our rope's tail to a list of coordinates visited.\n",
    "        coordinatesVisited.extend(rope[-1:])\n",
    "        \n",
    "# Remove duplicate dictionaries.\n",
    "\n",
    "import json\n",
    "\n",
    "set_of_jsons = {json.dumps(d, sort_keys=True) for d in coordinatesVisited}\n",
    "coordinatesVisited = [json.loads(t) for t in set_of_jsons]\n",
    "\n",
    "# Part 1 answer.\n",
    "print(len(coordinatesVisited))"
   ]
  },
  {
   "cell_type": "code",
   "execution_count": 307,
   "metadata": {},
   "outputs": [
    {
     "name": "stdout",
     "output_type": "stream",
     "text": [
      "98\n"
     ]
    }
   ],
   "source": [
    "rope2 = Rope(0, 0, ropeLength=10)\n",
    "coordinatesVisited2 = []\n",
    "\n",
    "with open('input.txt') as command_set:\n",
    "    command_set.seek(0)\n",
    "\n",
    "    # Read all lines to a list without new line spacing.\n",
    "    commands = command_set.read().splitlines()\n",
    "\n",
    "for command in commands:\n",
    "    # split the direction, and the number of operations by the space.\n",
    "    direction, number = command.split(\" \")\n",
    "\n",
    "    for _ in range(int(number)):\n",
    "        # For each command, move the head and update our rope.\n",
    "        rope2.moveHead(direction)\n",
    "        updateRope(rope2)\n",
    "   \n",
    "        # Add our LAST tail to a list of coordinates visited.\n",
    "        coordinatesVisited2.extend(rope2[-1:])\n",
    "        \n",
    "# Remove duplicate dictionaries.\n",
    "\n",
    "set_of_jsons = {json.dumps(d, sort_keys=True) for d in coordinatesVisited2}\n",
    "coordinatesVisited2 = [json.loads(t) for t in set_of_jsons]\n",
    "\n",
    "# Part 2 answer.\n",
    "print(len(coordinatesVisited2))\n",
    "\n",
    "# My answer was 98, it should be something more like 2500+."
   ]
  }
 ],
 "metadata": {
  "kernelspec": {
   "display_name": "AdventofCode",
   "language": "python",
   "name": "python3"
  },
  "language_info": {
   "codemirror_mode": {
    "name": "ipython",
    "version": 3
   },
   "file_extension": ".py",
   "mimetype": "text/x-python",
   "name": "python",
   "nbconvert_exporter": "python",
   "pygments_lexer": "ipython3",
   "version": "3.10.8"
  },
  "orig_nbformat": 4,
  "vscode": {
   "interpreter": {
    "hash": "efaa75f02d204c245e60ebb79ac7c386c626cf996f686efabafb2693fed2f835"
   }
  }
 },
 "nbformat": 4,
 "nbformat_minor": 2
}
