{
 "cells": [
  {
   "cell_type": "code",
   "execution_count": 107,
   "metadata": {},
   "outputs": [],
   "source": [
    "# Imports\n",
    "import pandas"
   ]
  },
  {
   "cell_type": "code",
   "execution_count": 108,
   "metadata": {},
   "outputs": [],
   "source": [
    "# Part 1 Functions\n",
    "\n",
    "def create_section_list(total_sections:int, section_assignment: str) -> list[int]:\n",
    "    \"\"\"This function creates a list of sections from 0 to total sections.\n",
    "\n",
    "    Args:\n",
    "        total_sections (int): The number of sections for elves to clean.\n",
    "        section_assignment (str): The given section assignment by the task input.\n",
    "\n",
    "    Returns:\n",
    "        list[int]: Returns a list of sections that elves can be assigned to.\n",
    "    \"\"\"\n",
    "\n",
    "    # Create a total list.\n",
    "    total_list = list(range(total_sections+1))\n",
    "\n",
    "\n",
    "    # Convert the section_assignment to two indices.\n",
    "    section_assignment_start, section_assignment_end = section_assignment.split(\"-\")\n",
    "    return total_list[int(section_assignment_start):int(section_assignment_end)+1]\n",
    "\n",
    "def check_sublist_contains(elf_1_assignment:list[int], elf_2_assignment:list[int], mode: str) -> bool:\n",
    "    \"\"\"This function gets the smaller of two lists, and checks if it is in the larger of two list.\n",
    "\n",
    "    Args:\n",
    "        elf_1_assignment (list[int]): Elf 1's assignments as list of integers.\n",
    "        elf_2_assignment (list[int]): Elf 2's assignments as list of integers.\n",
    "        mode (str): The mode of operation - any, or all.\n",
    "\n",
    "    Raises:\n",
    "        ValueError: Raised if there is an unrecognised mode assigned to the function.\n",
    "\n",
    "    Returns:\n",
    "        bool: Returns true if smaller is in larger list.\n",
    "    \"\"\"\n",
    "\n",
    "    # First, we get the smallest and largest lists, as the largest list won't fit totally in the smallest list.\n",
    "\n",
    "    smallest_list = min(elf_1_assignment, elf_2_assignment, key=len)\n",
    "    largest_list = max(elf_1_assignment, elf_2_assignment, key=len)\n",
    "\n",
    "    match mode:\n",
    "        case \"all\":\n",
    "\n",
    "            # Prevent a bug where two lengths are the same, and smallest and largest list are assigned to the same object.\n",
    "            if len(elf_1_assignment) == len(elf_2_assignment):\n",
    "                return elf_1_assignment == elf_2_assignment\n",
    "\n",
    "            # Return true if smaller list is explicitly in the larger list.\n",
    "            return all(item in largest_list for item in smallest_list)\n",
    "\n",
    "        case \"any\":\n",
    "            # Return true if any overlaps between the smaller list and the larger list.\n",
    "            return any(item in elf_1_assignment for item in elf_2_assignment) or any(item in elf_2_assignment for item in elf_1_assignment)\n",
    "\n",
    "        case _:\n",
    "            raise ValueError(\"The selected mode values are either 'any' or 'all'.\")\n",
    "\n",
    "\n"
   ]
  },
  {
   "cell_type": "code",
   "execution_count": 110,
   "metadata": {},
   "outputs": [
    {
     "name": "stdout",
     "output_type": "stream",
     "text": [
      "The answer for part 1 is:\n",
      "494\n",
      "The answer for part 2 is:\n",
      "833\n"
     ]
    }
   ],
   "source": [
    "df = pandas.read_table(\"./input.txt\", header=None)\n",
    "\n",
    "df.rename({0: \"SectionPairs\"}, axis=1, inplace=True)\n",
    "\n",
    "# Split the section pairs into two new assignments.\n",
    "df['Elf1Assignment'], df['Elf2Assignment'] = zip(*df['SectionPairs'].str.split(\",\"))\n",
    "\n",
    "# Run our create_section_list onto each assignment.\n",
    "df['Elf1Assignment'] = df.apply(lambda x: create_section_list(99, x['Elf1Assignment']), \n",
    "                        axis=1)\n",
    "\n",
    "df['Elf2Assignment'] = df.apply(lambda x: create_section_list(99, x['Elf2Assignment']), \n",
    "                        axis=1)\n",
    "\n",
    "# Check if any of the assignments overlap.\n",
    "df['AssignmentFullyOverlaps'] = df.apply(lambda x: check_sublist_contains(x['Elf1Assignment'], x['Elf2Assignment'], \"all\"), \n",
    "                        axis=1)\n",
    "\n",
    "df['AssignmentPartiallyOverlaps'] = df.apply(lambda x: check_sublist_contains(x['Elf1Assignment'], x['Elf2Assignment'], \"any\"), \n",
    "                        axis=1)\n",
    "\n",
    "# Count the number of overlaps.\n",
    "\n",
    "# NOTE: This was fun - first, I converted everythig to string, but I noticed there were some outliers where one elf assignment was simply '9', and was marking as *in* a list of '58, 59, 60'.\n",
    "# NOTE: This would have benefitted from writing tests.\n",
    "\n",
    "print(\"The answer for part 1 is:\")\n",
    "print(df['AssignmentFullyOverlaps'].values.sum())\n",
    "\n",
    "print(\"The answer for part 2 is:\")\n",
    "print(df['AssignmentPartiallyOverlaps'].values.sum())\n"
   ]
  }
 ],
 "metadata": {
  "kernelspec": {
   "display_name": "Python 3.10.8 64-bit",
   "language": "python",
   "name": "python3"
  },
  "language_info": {
   "codemirror_mode": {
    "name": "ipython",
    "version": 3
   },
   "file_extension": ".py",
   "mimetype": "text/x-python",
   "name": "python",
   "nbconvert_exporter": "python",
   "pygments_lexer": "ipython3",
   "version": "3.10.8"
  },
  "orig_nbformat": 4,
  "vscode": {
   "interpreter": {
    "hash": "b0fa6594d8f4cbf19f97940f81e996739fb7646882a419484c72d19e05852a7e"
   }
  }
 },
 "nbformat": 4,
 "nbformat_minor": 2
}
