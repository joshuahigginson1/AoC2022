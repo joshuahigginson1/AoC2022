{
 "cells": [
  {
   "cell_type": "code",
   "execution_count": 136,
   "metadata": {},
   "outputs": [
    {
     "name": "stdout",
     "output_type": "stream",
     "text": [
      "Requirement already satisfied: pandas in /opt/homebrew/lib/python3.10/site-packages (1.5.1)\n",
      "Requirement already satisfied: python-dateutil>=2.8.1 in /Users/joshua_higginson/Library/Python/3.10/lib/python/site-packages (from pandas) (2.8.2)\n",
      "Requirement already satisfied: numpy>=1.21.0 in /opt/homebrew/lib/python3.10/site-packages (from pandas) (1.23.4)\n",
      "Requirement already satisfied: pytz>=2020.1 in /opt/homebrew/lib/python3.10/site-packages (from pandas) (2022.6)\n",
      "Requirement already satisfied: six>=1.5 in /Users/joshua_higginson/Library/Python/3.10/lib/python/site-packages (from python-dateutil>=2.8.1->pandas) (1.16.0)\n",
      "\n",
      "\u001b[1m[\u001b[0m\u001b[34;49mnotice\u001b[0m\u001b[1;39;49m]\u001b[0m\u001b[39;49m A new release of pip available: \u001b[0m\u001b[31;49m22.2.2\u001b[0m\u001b[39;49m -> \u001b[0m\u001b[32;49m22.3.1\u001b[0m\n",
      "\u001b[1m[\u001b[0m\u001b[34;49mnotice\u001b[0m\u001b[1;39;49m]\u001b[0m\u001b[39;49m To update, run: \u001b[0m\u001b[32;49mpython3.10 -m pip install --upgrade pip\u001b[0m\n",
      "Note: you may need to restart the kernel to use updated packages.\n"
     ]
    }
   ],
   "source": [
    "%pip install pandas"
   ]
  },
  {
   "cell_type": "code",
   "execution_count": 137,
   "metadata": {},
   "outputs": [],
   "source": [
    "# Item Priority Functions.\n",
    "\n",
    "import string\n",
    "\n",
    "def get_item_priority(item:str):\n",
    "    \"\"\"This function gets the backpack item's priority, based on a list of ascii_letters provided by the string package.\n",
    "\n",
    "    Args:\n",
    "        item (str): A backpack item.\n",
    "\n",
    "    Returns:\n",
    "        int: Returns the priority of the text item. This is just the index of our string in ascii_letters + 1 to get the correct value.\n",
    "    \"\"\"\n",
    "\n",
    "    index = [key for key, val in enumerate(string.ascii_letters)\n",
    "                      if val == item]\n",
    "\n",
    "    return index[0] + 1\n"
   ]
  },
  {
   "cell_type": "code",
   "execution_count": 138,
   "metadata": {},
   "outputs": [],
   "source": [
    "# Rucksack Functions.\n",
    "\n",
    "def split_compartments(rucksack_contents:str):\n",
    "    \"\"\"This function splits a line of our rucksack contents into two even compartments.\n",
    "\n",
    "    Args:\n",
    "        rucksack_contents (str): The contents of an elf's rucksack.\n",
    "\n",
    "    Returns:\n",
    "        tuple(str, str): Returns the first, and the second compartments respectively.\n",
    "    \"\"\"\n",
    "    return rucksack_contents[:len(rucksack_contents)//2], rucksack_contents[len(rucksack_contents)//2:]\n",
    "\n",
    "\n",
    "def find_shared_items(compartment1:str, compartment2:str):\n",
    "    \"\"\"This function finds shared items in two compartments.\n",
    "\n",
    "    Args:\n",
    "        compartment1 (str): The rucksack's first compartment.\n",
    "        compartment2 (str): The rucksack's second compartment.\n",
    "\n",
    "    Raises:\n",
    "        ValueError: Raises a value error if there are no matching items in each compartment.\n",
    "\n",
    "    Returns:\n",
    "        str: Returns the first matching item letter in each compartment, as string.\n",
    "    \"\"\"\n",
    "\n",
    "    if matching_items := list(filter(lambda x: x in compartment1, compartment2)):\n",
    "        return matching_items\n",
    "    else:\n",
    "        raise ValueError(\"There are no matching items in this compartment.\")"
   ]
  },
  {
   "cell_type": "code",
   "execution_count": 139,
   "metadata": {},
   "outputs": [
    {
     "name": "stdout",
     "output_type": "stream",
     "text": [
      "8493\n"
     ]
    }
   ],
   "source": [
    "# Solving Part 1.\n",
    "\n",
    "with open('./input.txt') as rucksack_manifest:\n",
    "\n",
    "    rucksacks = rucksack_manifest.readlines()\n",
    "\n",
    "    priority_total = 0  # Initialising the priority total counter.\n",
    "\n",
    "    for rucksack in rucksacks:\n",
    "        compartment1, compartment2 = split_compartments(rucksack)\n",
    "\n",
    "        # Increases the priority total counter running functions.\n",
    "        priority_total += get_item_priority(find_shared_items(compartment1, compartment2)[0])\n",
    "\n",
    "print(priority_total)\n"
   ]
  },
  {
   "cell_type": "code",
   "execution_count": 140,
   "metadata": {},
   "outputs": [
    {
     "data": {
      "text/html": [
       "<div>\n",
       "<style scoped>\n",
       "    .dataframe tbody tr th:only-of-type {\n",
       "        vertical-align: middle;\n",
       "    }\n",
       "\n",
       "    .dataframe tbody tr th {\n",
       "        vertical-align: top;\n",
       "    }\n",
       "\n",
       "    .dataframe thead th {\n",
       "        text-align: right;\n",
       "    }\n",
       "</style>\n",
       "<table border=\"1\" class=\"dataframe\">\n",
       "  <thead>\n",
       "    <tr style=\"text-align: right;\">\n",
       "      <th></th>\n",
       "      <th>Backpack</th>\n",
       "      <th>Elf_Group</th>\n",
       "    </tr>\n",
       "  </thead>\n",
       "  <tbody>\n",
       "    <tr>\n",
       "      <th>0</th>\n",
       "      <td>jNNBMTNzvTqhQLhQLMQL</td>\n",
       "      <td>1</td>\n",
       "    </tr>\n",
       "    <tr>\n",
       "      <th>1</th>\n",
       "      <td>VCwnVRCGHHJTdsLtrdhrGdsq</td>\n",
       "      <td>1</td>\n",
       "    </tr>\n",
       "    <tr>\n",
       "      <th>2</th>\n",
       "      <td>wFJZTbRcnJCbpwpFccZCBfBvPzfpgfgzzWvjSzNP</td>\n",
       "      <td>1</td>\n",
       "    </tr>\n",
       "    <tr>\n",
       "      <th>3</th>\n",
       "      <td>wDWgDfWNTvwvgFfWfddGldJVprrrVdNlrN</td>\n",
       "      <td>2</td>\n",
       "    </tr>\n",
       "    <tr>\n",
       "      <th>4</th>\n",
       "      <td>nLnmLSnmMVJvSrHqdV</td>\n",
       "      <td>2</td>\n",
       "    </tr>\n",
       "  </tbody>\n",
       "</table>\n",
       "</div>"
      ],
      "text/plain": [
       "                                   Backpack  Elf_Group\n",
       "0                      jNNBMTNzvTqhQLhQLMQL          1\n",
       "1                  VCwnVRCGHHJTdsLtrdhrGdsq          1\n",
       "2  wFJZTbRcnJCbpwpFccZCBfBvPzfpgfgzzWvjSzNP          1\n",
       "3        wDWgDfWNTvwvgFfWfddGldJVprrrVdNlrN          2\n",
       "4                        nLnmLSnmMVJvSrHqdV          2"
      ]
     },
     "execution_count": 140,
     "metadata": {},
     "output_type": "execute_result"
    }
   ],
   "source": [
    "# Solving Part 2.\n",
    "\n",
    "import pandas\n",
    "import numpy\n",
    "import math\n",
    "\n",
    "elves_in_group = 3  # The number of groups we are sorting our elves into.\n",
    "\n",
    "def total_groups(dataframe:pandas.DataFrame, divider:int):\n",
    "    \"\"\"This function gets the total number of elf groups from a given dataframe, and a given divider.\n",
    "    NOTE: I never needed to use this function in the end.\n",
    "\n",
    "    Args:\n",
    "        dataframe (pandas.DataFrame): A dataframe.\n",
    "        divider (int): The number of elves in each group.\n",
    "\n",
    "    Returns:\n",
    "        int: Returns the total number of groups.\n",
    "    \"\"\"\n",
    "    return math.ceil(len(dataframe) / divider)\n",
    "\n",
    "def list_to_string(list:list):\n",
    "    \"\"\"This funcion converts a list to a string.\n",
    "\n",
    "    Args:\n",
    "        list (list): A given list.\n",
    "\n",
    "    Returns:\n",
    "        str: Returns a string of the list.\n",
    "    \"\"\"\n",
    "\n",
    "    return (\"\".join(list))\n",
    "\n",
    "def convert_series_to_list(group_of_elves:pandas.Series):\n",
    "    \"\"\"This function flattens a Pandas series into a list of lists.\n",
    "\n",
    "    Args:\n",
    "        group_of_elves (pandas.Series): A group of elves and their backpack values.\n",
    "\n",
    "    Returns:\n",
    "        list: Returns a list of strings of our backpacks.\n",
    "    \"\"\"\n",
    "    return group_of_elves.tolist()\n",
    "\n",
    "df = pandas.read_table(\"./input.txt\", header=None)\n",
    "df.rename({0: \"Backpack\"}, axis=1, inplace=True)\n",
    "\n",
    "# Here, we count all of the rows, divide by the total number of groups, and the we use math.ceil() to get the group number.\n",
    "df[\"Elf_Group\"] = df.all(axis=1).cumsum() / elves_in_group\n",
    "\n",
    "# Now, we use math.ceil() to get the group number.\n",
    "df[\"Elf_Group\"] = df[\"Elf_Group\"].apply(math.ceil)\n",
    "\n",
    "df.head()"
   ]
  },
  {
   "cell_type": "code",
   "execution_count": 141,
   "metadata": {},
   "outputs": [
    {
     "name": "stdout",
     "output_type": "stream",
     "text": [
      "2552\n"
     ]
    }
   ],
   "source": [
    "# We are going to mangle our 'find_shared_items\" function, to produce a new string, and repeat the process again.\n",
    "\n",
    "# Transform our dataframe into a list of strings, flattened by Elf_Group.\n",
    "df2 = df.groupby(\"Elf_Group\")['Backpack'].apply(convert_series_to_list).reset_index()\n",
    "\n",
    "priority_total2 = 0  # Initialise the priority total for part 2 of the challenge.\n",
    "\n",
    "# Loop through each index.\n",
    "for index in df2.index:\n",
    "    backpack1, backpack2, backpack3 = (df2[\"Backpack\"][index])\n",
    "    shared_item = find_shared_items(list_to_string(find_shared_items(backpack1, backpack2)), backpack3)[0]\n",
    "    priority_total2 += get_item_priority(shared_item)\n",
    "    \n",
    "print(priority_total2)\n"
   ]
  }
 ],
 "metadata": {
  "kernelspec": {
   "display_name": "Python 3.10.8 64-bit",
   "language": "python",
   "name": "python3"
  },
  "language_info": {
   "codemirror_mode": {
    "name": "ipython",
    "version": 3
   },
   "file_extension": ".py",
   "mimetype": "text/x-python",
   "name": "python",
   "nbconvert_exporter": "python",
   "pygments_lexer": "ipython3",
   "version": "3.10.8"
  },
  "orig_nbformat": 4,
  "vscode": {
   "interpreter": {
    "hash": "b0fa6594d8f4cbf19f97940f81e996739fb7646882a419484c72d19e05852a7e"
   }
  }
 },
 "nbformat": 4,
 "nbformat_minor": 2
}
